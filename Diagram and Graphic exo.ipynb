{
 "cells": [
  {
   "cell_type": "markdown",
   "metadata": {},
   "source": [
    "* Lire \"fandango.csv\" dans un dataframe reviews\n",
    "* Sélectionner les colonnes suivantes et as_nosigner les au dataframe norm_reviews:\n",
    "    > * 'FILM'\n",
    "    > * 'RT_user_norm'\n",
    "    > * 'Metacritic_user_norm\n",
    "    > * 'IMDB_norm'\n",
    "    > * 'Fandango_Rattingvalue'\n",
    "    > * 'Fandango_Stars'\n",
    "    \n",
    "* Afficher les premières lignes de norm_reviews."
   ]
  },
  {
   "cell_type": "code",
   "execution_count": 1,
   "metadata": {},
   "outputs": [],
   "source": [
    "import pandas as pd"
   ]
  },
  {
   "cell_type": "code",
   "execution_count": 2,
   "metadata": {},
   "outputs": [],
   "source": [
    "reviews = pd.read_csv(\"fandango.csv\")"
   ]
  },
  {
   "cell_type": "code",
   "execution_count": 3,
   "metadata": {},
   "outputs": [],
   "source": [
    "norm_reviews = reviews[['FILM', 'RT_user_norm', \"Metacritic_user_nom\", 'IMDB_norm', 'Fandango_Ratingvalue', 'Fandango_Stars']]"
   ]
  },
  {
   "cell_type": "code",
   "execution_count": 40,
   "metadata": {},
   "outputs": [
    {
     "data": {
      "text/html": [
       "<div>\n",
       "<style scoped>\n",
       "    .dataframe tbody tr th:only-of-type {\n",
       "        vertical-align: middle;\n",
       "    }\n",
       "\n",
       "    .dataframe tbody tr th {\n",
       "        vertical-align: top;\n",
       "    }\n",
       "\n",
       "    .dataframe thead th {\n",
       "        text-align: right;\n",
       "    }\n",
       "</style>\n",
       "<table border=\"1\" class=\"dataframe\">\n",
       "  <thead>\n",
       "    <tr style=\"text-align: right;\">\n",
       "      <th></th>\n",
       "      <th>FILM</th>\n",
       "      <th>RT_user_norm</th>\n",
       "      <th>Metacritic_user_nom</th>\n",
       "      <th>IMDB_norm</th>\n",
       "      <th>Fandango_Ratingvalue</th>\n",
       "      <th>Fandango_Stars</th>\n",
       "    </tr>\n",
       "  </thead>\n",
       "  <tbody>\n",
       "    <tr>\n",
       "      <th>0</th>\n",
       "      <td>Avengers: Age of Ultron (2015)</td>\n",
       "      <td>4.30</td>\n",
       "      <td>3.55</td>\n",
       "      <td>3.90</td>\n",
       "      <td>4.5</td>\n",
       "      <td>5.0</td>\n",
       "    </tr>\n",
       "    <tr>\n",
       "      <th>1</th>\n",
       "      <td>Cinderella (2015)</td>\n",
       "      <td>4.00</td>\n",
       "      <td>3.75</td>\n",
       "      <td>3.55</td>\n",
       "      <td>4.5</td>\n",
       "      <td>5.0</td>\n",
       "    </tr>\n",
       "    <tr>\n",
       "      <th>2</th>\n",
       "      <td>Ant-Man (2015)</td>\n",
       "      <td>4.50</td>\n",
       "      <td>4.05</td>\n",
       "      <td>3.90</td>\n",
       "      <td>4.5</td>\n",
       "      <td>5.0</td>\n",
       "    </tr>\n",
       "    <tr>\n",
       "      <th>3</th>\n",
       "      <td>Do You Believe? (2015)</td>\n",
       "      <td>4.20</td>\n",
       "      <td>2.35</td>\n",
       "      <td>2.70</td>\n",
       "      <td>4.5</td>\n",
       "      <td>5.0</td>\n",
       "    </tr>\n",
       "    <tr>\n",
       "      <th>4</th>\n",
       "      <td>Hot Tub Time Machine 2 (2015)</td>\n",
       "      <td>1.40</td>\n",
       "      <td>1.70</td>\n",
       "      <td>2.55</td>\n",
       "      <td>3.0</td>\n",
       "      <td>3.5</td>\n",
       "    </tr>\n",
       "    <tr>\n",
       "      <th>...</th>\n",
       "      <td>...</td>\n",
       "      <td>...</td>\n",
       "      <td>...</td>\n",
       "      <td>...</td>\n",
       "      <td>...</td>\n",
       "      <td>...</td>\n",
       "    </tr>\n",
       "    <tr>\n",
       "      <th>141</th>\n",
       "      <td>Mr. Holmes (2015)</td>\n",
       "      <td>3.90</td>\n",
       "      <td>3.95</td>\n",
       "      <td>3.70</td>\n",
       "      <td>4.0</td>\n",
       "      <td>4.0</td>\n",
       "    </tr>\n",
       "    <tr>\n",
       "      <th>142</th>\n",
       "      <td>'71 (2015)</td>\n",
       "      <td>4.10</td>\n",
       "      <td>3.75</td>\n",
       "      <td>3.60</td>\n",
       "      <td>3.5</td>\n",
       "      <td>3.5</td>\n",
       "    </tr>\n",
       "    <tr>\n",
       "      <th>143</th>\n",
       "      <td>Two Days, One Night (2014)</td>\n",
       "      <td>3.90</td>\n",
       "      <td>4.40</td>\n",
       "      <td>3.70</td>\n",
       "      <td>3.5</td>\n",
       "      <td>3.5</td>\n",
       "    </tr>\n",
       "    <tr>\n",
       "      <th>144</th>\n",
       "      <td>Gett: The Trial of Viviane Amsalem (2015)</td>\n",
       "      <td>4.05</td>\n",
       "      <td>3.65</td>\n",
       "      <td>3.90</td>\n",
       "      <td>3.5</td>\n",
       "      <td>3.5</td>\n",
       "    </tr>\n",
       "    <tr>\n",
       "      <th>145</th>\n",
       "      <td>Kumiko, The Treasure Hunter (2015)</td>\n",
       "      <td>3.15</td>\n",
       "      <td>3.20</td>\n",
       "      <td>3.35</td>\n",
       "      <td>3.5</td>\n",
       "      <td>3.5</td>\n",
       "    </tr>\n",
       "  </tbody>\n",
       "</table>\n",
       "<p>146 rows × 6 columns</p>\n",
       "</div>"
      ],
      "text/plain": [
       "                                          FILM  RT_user_norm  \\\n",
       "0               Avengers: Age of Ultron (2015)          4.30   \n",
       "1                            Cinderella (2015)          4.00   \n",
       "2                               Ant-Man (2015)          4.50   \n",
       "3                       Do You Believe? (2015)          4.20   \n",
       "4                Hot Tub Time Machine 2 (2015)          1.40   \n",
       "..                                         ...           ...   \n",
       "141                          Mr. Holmes (2015)          3.90   \n",
       "142                                 '71 (2015)          4.10   \n",
       "143                 Two Days, One Night (2014)          3.90   \n",
       "144  Gett: The Trial of Viviane Amsalem (2015)          4.05   \n",
       "145         Kumiko, The Treasure Hunter (2015)          3.15   \n",
       "\n",
       "     Metacritic_user_nom  IMDB_norm  Fandango_Ratingvalue  Fandango_Stars  \n",
       "0                   3.55       3.90                   4.5             5.0  \n",
       "1                   3.75       3.55                   4.5             5.0  \n",
       "2                   4.05       3.90                   4.5             5.0  \n",
       "3                   2.35       2.70                   4.5             5.0  \n",
       "4                   1.70       2.55                   3.0             3.5  \n",
       "..                   ...        ...                   ...             ...  \n",
       "141                 3.95       3.70                   4.0             4.0  \n",
       "142                 3.75       3.60                   3.5             3.5  \n",
       "143                 4.40       3.70                   3.5             3.5  \n",
       "144                 3.65       3.90                   3.5             3.5  \n",
       "145                 3.20       3.35                   3.5             3.5  \n",
       "\n",
       "[146 rows x 6 columns]"
      ]
     },
     "execution_count": 40,
     "metadata": {},
     "output_type": "execute_result"
    }
   ],
   "source": [
    "norm_reviews"
   ]
  },
  {
   "cell_type": "code",
   "execution_count": 41,
   "metadata": {},
   "outputs": [
    {
     "data": {
      "text/plain": [
       "Index(['FILM', 'RT_user_norm', 'Metacritic_user_nom', 'IMDB_norm',\n",
       "       'Fandango_Ratingvalue', 'Fandango_Stars'],\n",
       "      dtype='object')"
      ]
     },
     "execution_count": 41,
     "metadata": {},
     "output_type": "execute_result"
    }
   ],
   "source": [
    "norm_reviews.columns"
   ]
  },
  {
   "cell_type": "markdown",
   "metadata": {},
   "source": [
    "## Diagrammes en barre"
   ]
  },
  {
   "cell_type": "markdown",
   "metadata": {},
   "source": [
    "* Créer un sous-graphique et assigner l'object Figure à la variable fig et l'objet Axes à la variable ax.\n",
    "* Générer un diagramme en barre avec:\n",
    "    > * left définie par bar_positions qui doit prendre les valeurs 1, 2, 3, 4 et 5\n",
    "    > * height définie par bar_heights qui doit prendre les 5 colonnes qui nous intéressent\n",
    "    > * width fixe à 0.5\n",
    "    \n",
    "* Utiliser plt.show() pour afficher le diagramme en barre."
   ]
  },
  {
   "cell_type": "code",
   "execution_count": 5,
   "metadata": {},
   "outputs": [
    {
     "data": {
      "image/png": "[encoded data removed]",
      "text/plain": [
       "<Figure size 432x288 with 1 Axes>"
      ]
     },
     "metadata": {
      "needs_background": "light"
     },
     "output_type": "display_data"
    },
    {
     "data": {
      "text/plain": [
       "<Figure size 432x288 with 0 Axes>"
      ]
     },
     "metadata": {},
     "output_type": "display_data"
    }
   ],
   "source": [
    "%matplotlib inline\n",
    "import matplotlib.pyplot as plt\n",
    "from numpy import arange \n",
    "\n",
    "bar_positions = arange(5) + 1\n",
    "fig, ax = plt.subplots()\n",
    "\n",
    "num_cols = ['RT_user_norm', \"Metacritic_user_nom\", 'IMDB_norm', 'Fandango_Ratingvalue', 'Fandango_Stars' ]\n",
    "bar_height = norm_reviews[num_cols].iloc[0].values\n",
    "ax.bar(bar_positions, bar_height, 0.5)\n",
    "\n",
    "plt.figure()\n",
    "plt.show()"
   ]
  },
  {
   "cell_type": "markdown",
   "metadata": {},
   "source": [
    "## Aligner l'intitulé et le trait sur l'axe x"
   ]
  },
  {
   "cell_type": "markdown",
   "metadata": {},
   "source": [
    "* Créer un sous-graphique et assigner l'objet Figure à la variable fig et l'object Axes à la variable ax.\n",
    "* Générer un diagramme en barre avec:\n",
    "    > * left définie par bar_positons qui doit prendre les valeurs 1, 2, 3, 4 et 5\n",
    "    > * height définie par bar_heights qui doit prendre le 5 colonnes qui nous intéressent\n",
    "    > * width fixé à 0.5\n",
    " \n",
    "* Placer les 5 traits correspondant aux barres.\n",
    "* Placer les intitulés de num_cols et faire un rotation de 90 degrés.\n",
    "* Définir l'axe x par \"Source de notation\".\n",
    "* Définir l'axe y par \"Note moynne\".\n",
    "* Définir le titre par 'Moyenne des notes utilisateurs pour le film Avengers: Age of Ultron (2015)\".\n",
    "* Utiliser plt.show() pour afficher le diagramme."
   ]
  },
  {
   "cell_type": "code",
   "execution_count": 6,
   "metadata": {},
   "outputs": [
    {
     "data": {
      "image/png": "[encoded data removed]",
      "text/plain": [
       "<Figure size 432x288 with 1 Axes>"
      ]
     },
     "metadata": {
      "needs_background": "light"
     },
     "output_type": "display_data"
    },
    {
     "data": {
      "text/plain": [
       "<Figure size 432x288 with 0 Axes>"
      ]
     },
     "metadata": {},
     "output_type": "display_data"
    }
   ],
   "source": [
    "fig, ax = plt.subplots()\n",
    "bar_positions = arange(5) + 1\n",
    "num_cols = ['RT_user_norm', \"Metacritic_user_nom\", 'IMDB_norm', 'Fandango_Ratingvalue', 'Fandango_Stars' ]\n",
    "bar_height = norm_reviews[num_cols].iloc[0].values\n",
    "ax.bar(bar_positions, bar_height, 0.5)\n",
    "\n",
    "tick_positions = range(1, 6)\n",
    "ax.set_xticks(tick_positions)\n",
    "ax.set_xticklabels(num_cols, rotation = 90)\n",
    "\n",
    "plt.xlabel(\"Source de notation\")\n",
    "plt.ylabel(\"Note moynne\")\n",
    "plt.title(\"Moyenne des notes utilisateurs pour le film Avengers: Age of Ultron (2015)\")\n",
    "\n",
    "plt.figure()\n",
    "plt.show()"
   ]
  },
  {
   "cell_type": "markdown",
   "metadata": {},
   "source": [
    "## Diagramme en barres horizontales"
   ]
  },
  {
   "cell_type": "markdown",
   "metadata": {},
   "source": [
    "* Créer un sous-graphique et assigner l'objet Figure à la variable fig e l'objet Axes à la variable ax.\n",
    "* Générer un diagralle en barre avec:\n",
    "    > * bottom pour les position bar_positions\n",
    "    > * width pour la largeur des barres bar_widhts\n",
    "    > * height fixé à 0.5\n",
    "    \n",
    "* Placer les 5 traits correspondants aux barres sur l'axes y\n",
    "* Placer les intutilés de num_cols.\n",
    "* Définir l'axe y par \"Sources de notes'\n",
    "* Définir l'axe x par \"Note moyenne\"\n",
    "* définir le titre par \"Note moyenne utilisateurs pour le film Avengers: Age of Ultron (2015)\".\n",
    "* Utiliser plt.show() pour afficher le diagramme en barre."
   ]
  },
  {
   "cell_type": "code",
   "execution_count": 8,
   "metadata": {
    "scrolled": true
   },
   "outputs": [
    {
     "data": {
      "image/png": "[encoded data removed]",
      "text/plain": [
       "<Figure size 432x288 with 1 Axes>"
      ]
     },
     "metadata": {
      "needs_background": "light"
     },
     "output_type": "display_data"
    },
    {
     "data": {
      "text/plain": [
       "<Figure size 432x288 with 0 Axes>"
      ]
     },
     "metadata": {},
     "output_type": "display_data"
    }
   ],
   "source": [
    "fig, ax = plt.subplots()\n",
    "bar_positions = arange(5) + 1\n",
    "num_cols = ['RT_user_norm', \"Metacritic_user_nom\", 'IMDB_norm', 'Fandango_Ratingvalue', 'Fandango_Stars' ]\n",
    "bar_widths = norm_reviews[num_cols].iloc[0].values\n",
    "ax.barh(bar_positions, bar_widths, 0.5)\n",
    "\n",
    "tick_positions = range(1, 6)\n",
    "ax.set_yticks(tick_positions)\n",
    "ax.set_yticklabels(num_cols)\n",
    "\n",
    "plt.xlabel(\"Source de notation\")\n",
    "plt.ylabel(\"Note moynne\")\n",
    "plt.title(\"Moyenne des notes utilisateurs pour le film Avengers: Age of Ultron (2015)\")\n",
    "\n",
    "plt.figure()\n",
    "plt.show()"
   ]
  },
  {
   "cell_type": "markdown",
   "metadata": {},
   "source": [
    "## Graphique à nuage de points"
   ]
  },
  {
   "cell_type": "markdown",
   "metadata": {},
   "source": [
    "* Créer un sous graphique et assigner l'objet Figure à la variable Fig et l'objet Axes à la variable ax.\n",
    "* Générer un graphique à nuage de point avec la colonne \"Fandango_Ratingvalue\" sur l'axe x et la colonne \"Rt_user_norm\" pour l'axe y.\n",
    "* Définir pour l'axe x \"Fandango et Rotten Tomatoes\" pour l'axe y.\n",
    "* Afficher le graphique résultant."
   ]
  },
  {
   "cell_type": "code",
   "execution_count": 19,
   "metadata": {},
   "outputs": [
    {
     "data": {
      "image/png": "[encoded data removed]",
      "text/plain": [
       "<Figure size 432x288 with 1 Axes>"
      ]
     },
     "metadata": {
      "needs_background": "light"
     },
     "output_type": "display_data"
    },
    {
     "data": {
      "text/plain": [
       "<Figure size 432x288 with 0 Axes>"
      ]
     },
     "metadata": {},
     "output_type": "display_data"
    }
   ],
   "source": [
    "fig, ax = plt.subplots()\n",
    "bar_positions = arange(5) + 1\n",
    "num_cols = ['RT_user_norm', 'Fandango_Ratingvalue']\n",
    "ax.scatter(norm_reviews[\"Fandango_Ratingvalue\"], norm_reviews[\"RT_user_norm\"])\n",
    "plt.xlabel(\"Fandango\")\n",
    "plt.ylabel(\"Fandango et Rotten Tomatoes\")\n",
    "plt.figure()\n",
    "plt.show()"
   ]
  },
  {
   "cell_type": "markdown",
   "metadata": {},
   "source": [
    "## Intervertir les axes"
   ]
  },
  {
   "cell_type": "markdown",
   "metadata": {},
   "source": [
    "* Pour le sous-graphique associé à la variable ax1.\n",
    "    > * à nuage de points avec la colonne \"Fandango_Ratingvalue\" sur l'axe x et la colonne 'RT_user_norm\" sur l'axe y\n",
    "    > * Définir pour l'axe x 'Fandango' et pour l'axe y \"Rotten Tomatoes\"\n",
    "* Pour le sous-graphique associé à la variable ax2.\n",
    "    > * à nuage de points avec la colonne \"RT_user_norm\" sur l'axe x et la colonne 'Fandango_Ratingvalue\" sur l'axe y\n",
    "    > * Définir pour l'axe x 'Rotten Tomatoes' et pour l'axe y \"Fandango\"\n",
    "    \n",
    "* Afficher le graphique résultant"
   ]
  },
  {
   "cell_type": "code",
   "execution_count": 37,
   "metadata": {},
   "outputs": [
    {
     "data": {
      "image/png": "[encoded data removed]",
      "text/plain": [
       "<Figure size 360x720 with 2 Axes>"
      ]
     },
     "metadata": {
      "needs_background": "light"
     },
     "output_type": "display_data"
    },
    {
     "data": {
      "text/plain": [
       "<Figure size 432x288 with 0 Axes>"
      ]
     },
     "metadata": {},
     "output_type": "display_data"
    }
   ],
   "source": [
    "fig, ax = plt.subplots(2, 1, figsize = (5, 10))\n",
    "bar_positions = arange(5) + 1\n",
    "ax[0].scatter(norm_reviews[\"Fandango_Ratingvalue\"], norm_reviews[\"RT_user_norm\"])\n",
    "ax[0].set_xlabel(\"Fandango\")\n",
    "ax[0].set_ylabel(\"Fandango et Rotten Tomatoes\")\n",
    "ax[1].scatter(norm_reviews[\"RT_user_norm\"], norm_reviews[\"Fandango_Ratingvalue\"])\n",
    "ax[1].set_xlabel(\"Fandango\")\n",
    "ax[1].set_ylabel(\"Fandango et Rotten Tomatoes\")\n",
    "plt.figure()\n",
    "plt.show()"
   ]
  },
  {
   "cell_type": "markdown",
   "metadata": {},
   "source": [
    "## Comparaison de corrélations"
   ]
  },
  {
   "cell_type": "markdown",
   "metadata": {},
   "source": [
    "Tracer un graphique avec 3 sous-graphiques:\n",
    "\n",
    "* pour le sous-graphique associé à la variable ax1:\n",
    "\n",
    "    > * Générer un graphique à nuage de points avec la colonne \"Fandango_Ratingvalue\" sur l'axe x et la colonne 'Rt_user_norm' sur l'axe y\n",
    "    > * Définir pour l'axe x \"Fandango\" et pour l'axe y \"Rotten Tomattoes'\n",
    "    > * Définir les limites des axes x et y en les fixant de 0 à 5\n",
    "\n",
    "* pour le sous-graphique associé à la variable ax2:\n",
    "\n",
    "    > * Générer un graphique à nuage de points avec la colonne \"Fandango_Ratingvalue\" sur l'axe x et la colonne \"Metracritic_user_norm' sur l'axe y\n",
    "    > * Définir pour l'axe x \"Fandango\" et pour l'axe y \"Metacritic\"\n",
    "    > * Définir les limites des axes x et y en les fixant de 0 à 5\n",
    "\n",
    "* pour le sous-graphique associé à la variable ax3:\n",
    "\n",
    "    > * Générer un graphique à nuage de points avec la colonne \"Fandango_Ratingvalue\" sur l'axe x et la colonne \"IMDB_norm' sur l'axe y\n",
    "    > * Définir pour l'axe x \"Fandango\" et pour l'axe y \"IMDB\"\n",
    "    > * Définir les limites des axes x et y en les fixant de 0 à 5\n",
    "    \n",
    "* Afficher le graphique\n"
   ]
  },
  {
   "cell_type": "code",
   "execution_count": 44,
   "metadata": {},
   "outputs": [
    {
     "data": {
      "image/png": "[encoded data removed]",
      "text/plain": [
       "<Figure size 360x1080 with 3 Axes>"
      ]
     },
     "metadata": {
      "needs_background": "light"
     },
     "output_type": "display_data"
    },
    {
     "data": {
      "text/plain": [
       "<Figure size 432x288 with 0 Axes>"
      ]
     },
     "metadata": {},
     "output_type": "display_data"
    }
   ],
   "source": [
    "fig, ax = plt.subplots(3, 1, figsize = (5, 15))\n",
    "list_y = ['RT_user_norm', 'Metacritic_user_nom', 'IMDB_norm']\n",
    "list_label = [\"Rotten Tomattoes\", \"Metacritic\", \"IMDB\"]\n",
    "bar_positions = arange(5) + 1\n",
    "for i in range(3):\n",
    "    ax[i].scatter(norm_reviews[\"Fandango_Ratingvalue\"], norm_reviews[list_y[i]])\n",
    "    ax[i].set_xlabel(\"Fandango\")\n",
    "    ax[i].set_ylabel(list_label[i])\n",
    "    ax[i].set_xlim(0, 5)\n",
    "    ax[i].set_ylim(0, 5)\n",
    "plt.figure()\n",
    "plt.show()"
   ]
  },
  {
   "cell_type": "code",
   "execution_count": null,
   "metadata": {},
   "outputs": [],
   "source": []
  }
 ],
 "metadata": {
  "kernelspec": {
   "display_name": "Python 3",
   "language": "python",
   "name": "python3"
  },
  "language_info": {
   "codemirror_mode": {
    "name": "ipython",
    "version": 3
   },
   "file_extension": ".py",
   "mimetype": "text/x-python",
   "name": "python",
   "nbconvert_exporter": "python",
   "pygments_lexer": "ipython3",
   "version": "3.6.3"
  }
 },
 "nbformat": 4,
 "nbformat_minor": 2
}
