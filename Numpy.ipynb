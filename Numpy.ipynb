{
 "cells": [
  {
   "cell_type": "markdown",
   "metadata": {},
   "source": [
    "## Numpy"
   ]
  },
  {
   "cell_type": "code",
   "execution_count": null,
   "metadata": {},
   "outputs": [],
   "source": [
    "#numpy fonction for array length"
   ]
  },
  {
   "cell_type": "code",
   "execution_count": 3,
   "metadata": {},
   "outputs": [],
   "source": [
    "import numpy as np"
   ]
  },
  {
   "cell_type": "code",
   "execution_count": 10,
   "metadata": {},
   "outputs": [
    {
     "name": "stdout",
     "output_type": "stream",
     "text": [
      "(3,)\n",
      "(3, 3)\n"
     ]
    }
   ],
   "source": [
    "vector = np.array([10, 20, 30])\n",
    "matrix = np.array([[5, 10, 15], [20, 25, 30], [35, 40, 45]])\n",
    "vector_shape = vector.shape\n",
    "matrix_shape = matrix.shape\n",
    "print(vector_shape)\n",
    "print(matrix_shape)"
   ]
  },
  {
   "cell_type": "markdown",
   "metadata": {},
   "source": [
    "## Lire un Dataset avec Numpy"
   ]
  },
  {
   "cell_type": "code",
   "execution_count": 13,
   "metadata": {},
   "outputs": [],
   "source": [
    "# Numpy fonction for reading dataset numpy.genfromtxt()"
   ]
  },
  {
   "cell_type": "code",
   "execution_count": 32,
   "metadata": {},
   "outputs": [
    {
     "name": "stdout",
     "output_type": "stream",
     "text": [
      "<class 'numpy.ndarray'>\n"
     ]
    }
   ],
   "source": [
    "import numpy as np\n",
    "world_alcohol = np.genfromtxt(\"world-alcohol.csv\", delimiter = \",\", dtype = \"U75\", skip_header = 1)\n",
    "print(type(world_alcohol))"
   ]
  },
  {
   "cell_type": "code",
   "execution_count": 22,
   "metadata": {},
   "outputs": [
    {
     "name": "stdout",
     "output_type": "stream",
     "text": [
      "float64\n"
     ]
    }
   ],
   "source": [
    "world_alcohol_dtype = world_alcohol.dtype\n",
    "print(world_alcohol_dtype)"
   ]
  },
  {
   "cell_type": "markdown",
   "metadata": {},
   "source": [
    "## Showing data Correctly"
   ]
  },
  {
   "cell_type": "code",
   "execution_count": 33,
   "metadata": {},
   "outputs": [
    {
     "data": {
      "text/plain": [
       "array([['1986', 'Western Pacific', 'Viet Nam', 'Wine', '0'],\n",
       "       ['1986', 'Americas', 'Uruguay', 'Other', '0.5'],\n",
       "       ['1985', 'Africa', \"Cte d'Ivoire\", 'Wine', '1.62'],\n",
       "       ...,\n",
       "       ['1986', 'Europe', 'Switzerland', 'Spirits', '2.54'],\n",
       "       ['1987', 'Western Pacific', 'Papua New Guinea', 'Other', '0'],\n",
       "       ['1986', 'Africa', 'Swaziland', 'Other', '5.15']], dtype='<U75')"
      ]
     },
     "execution_count": 33,
     "metadata": {},
     "output_type": "execute_result"
    }
   ],
   "source": [
    "world_alcohol"
   ]
  },
  {
   "cell_type": "code",
   "execution_count": 35,
   "metadata": {},
   "outputs": [
    {
     "name": "stdout",
     "output_type": "stream",
     "text": [
      "1.62\n",
      "Americas\n"
     ]
    }
   ],
   "source": [
    "ivoire_1985 = world_alcohol[2, 4]\n",
    "second_country = world_alcohol[1, 1]\n",
    "print(ivoire_1985)\n",
    "print(second_country)"
   ]
  },
  {
   "cell_type": "code",
   "execution_count": 46,
   "metadata": {},
   "outputs": [
    {
     "name": "stdout",
     "output_type": "stream",
     "text": [
      "['Viet Nam' 'Uruguay' \"Cte d'Ivoire\" ... 'Switzerland' 'Papua New Guinea'\n",
      " 'Swaziland']\n",
      "['0' '0.5']\n"
     ]
    }
   ],
   "source": [
    "countries = world_alcohol[:, 2]\n",
    "alcohol_consumption = world_alcohol[0:2, 4]\n",
    "print(countries)\n",
    "print(alcohol_consumption)"
   ]
  },
  {
   "cell_type": "code",
   "execution_count": 54,
   "metadata": {},
   "outputs": [
    {
     "name": "stdout",
     "output_type": "stream",
     "text": [
      "[['1986' 'Western Pacific' 'Viet Nam' 'Wine' '0']\n",
      " ['1986' 'Americas' 'Uruguay' 'Other' '0.5']\n",
      " ['1985' 'Africa' \"Cte d'Ivoire\" 'Wine' '1.62']\n",
      " ['1986' 'Americas' 'Colombia' 'Beer' '4.27']\n",
      " ['1987' 'Americas' 'Saint Kitts and Nevis' 'Beer' '1.98']\n",
      " ['1987' 'Americas' 'Guatemala' 'Other' '0']\n",
      " ['1987' 'Africa' 'Mauritius' 'Wine' '0.13']\n",
      " ['1985' 'Africa' 'Angola' 'Spirits' '0.39']\n",
      " ['1986' 'Americas' 'Antigua and Barbuda' 'Spirits' '1.55']\n",
      " ['1984' 'Africa' 'Nigeria' 'Other' '6.1']] \n",
      "\n",
      "[['Western Pacific' 'Viet Nam']\n",
      " ['Americas' 'Uruguay']\n",
      " ['Africa' \"Cte d'Ivoire\"]\n",
      " ['Americas' 'Colombia']\n",
      " ['Americas' 'Saint Kitts and Nevis']\n",
      " ['Americas' 'Guatemala']\n",
      " ['Africa' 'Mauritius']\n",
      " ['Africa' 'Angola']\n",
      " ['Americas' 'Antigua and Barbuda']\n",
      " ['Africa' 'Nigeria']\n",
      " ['Africa' 'Botswana']\n",
      " ['Americas' 'Guatemala']\n",
      " ['Western Pacific' \"Lao People's Democratic Republic\"]\n",
      " ['Eastern Mediterranean' 'Afghanistan']\n",
      " ['Western Pacific' 'Viet Nam']\n",
      " ['Africa' 'Guinea-Bissau']\n",
      " ['Americas' 'Costa Rica']\n",
      " ['Africa' 'Seychelles']\n",
      " ['Europe' 'Norway']\n",
      " ['Africa' 'Kenya']]\n"
     ]
    }
   ],
   "source": [
    "first_two_columns = world_alcohol[:, 0:2]\n",
    "first_ten_years = world_alcohol[0:10, 0]\n",
    "first_ten_rows = world_alcohol[0:10, :]\n",
    "first_twenty_regions = world_alcohol[0:20, 1:3]\n",
    "#print(first_two_columns)\n",
    "#print(first_ten_years)\n",
    "print(first_ten_rows, \"\\n\")\n",
    "print(first_twenty_regions)"
   ]
  },
  {
   "cell_type": "markdown",
   "metadata": {},
   "source": [
    "## Convert Data Type"
   ]
  },
  {
   "cell_type": "code",
   "execution_count": 6,
   "metadata": {},
   "outputs": [],
   "source": [
    "#astype\n",
    "Vector = np.array(['1', '2', '3'])\n",
    "Vector = Vector.astype(float)"
   ]
  },
  {
   "cell_type": "markdown",
   "metadata": {},
   "source": [
    "## Realize Mathematics Calculs with Numpy\n"
   ]
  },
  {
   "cell_type": "code",
   "execution_count": 7,
   "metadata": {},
   "outputs": [
    {
     "name": "stdout",
     "output_type": "stream",
     "text": [
      "[[ 5 10 15]\n",
      " [20 25 30]\n",
      " [35 40 45]]\n"
     ]
    },
    {
     "data": {
      "text/plain": [
       "array([ 30,  75, 120])"
      ]
     },
     "execution_count": 7,
     "metadata": {},
     "output_type": "execute_result"
    }
   ],
   "source": [
    "#sum\n",
    "#mean\n",
    "#max\n",
    "\n",
    "matrix = np.array([[5, 10, 15], [20, 25, 30], [35, 40, 45]])\n",
    "print(matrix)\n",
    "matrix.sum(axis = 1) ## axis 0 for Y and axis 1 for X"
   ]
  },
  {
   "cell_type": "markdown",
   "metadata": {},
   "source": [
    "## Calculation of Annual comsumption per habitat for a given country"
   ]
  },
  {
   "cell_type": "code",
   "execution_count": null,
   "metadata": {},
   "outputs": [],
   "source": []
  }
 ],
 "metadata": {
  "kernelspec": {
   "display_name": "Python 3",
   "language": "python",
   "name": "python3"
  },
  "language_info": {
   "codemirror_mode": {
    "name": "ipython",
    "version": 3
   },
   "file_extension": ".py",
   "mimetype": "text/x-python",
   "name": "python",
   "nbconvert_exporter": "python",
   "pygments_lexer": "ipython3",
   "version": "3.6.3"
  }
 },
 "nbformat": 4,
 "nbformat_minor": 2
}
