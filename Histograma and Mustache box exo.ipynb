{
 "cells": [
  {
   "cell_type": "code",
   "execution_count": 1,
   "metadata": {},
   "outputs": [
    {
     "data": {
      "text/html": [
       "<div>\n",
       "<style scoped>\n",
       "    .dataframe tbody tr th:only-of-type {\n",
       "        vertical-align: middle;\n",
       "    }\n",
       "\n",
       "    .dataframe tbody tr th {\n",
       "        vertical-align: top;\n",
       "    }\n",
       "\n",
       "    .dataframe thead th {\n",
       "        text-align: right;\n",
       "    }\n",
       "</style>\n",
       "<table border=\"1\" class=\"dataframe\">\n",
       "  <thead>\n",
       "    <tr style=\"text-align: right;\">\n",
       "      <th></th>\n",
       "      <th>FILM</th>\n",
       "      <th>RT_user_norm</th>\n",
       "      <th>Metacritic_user_nom</th>\n",
       "      <th>IMDB_norm</th>\n",
       "      <th>Fandango_Ratingvalue</th>\n",
       "    </tr>\n",
       "  </thead>\n",
       "  <tbody>\n",
       "    <tr>\n",
       "      <th>0</th>\n",
       "      <td>Avengers: Age of Ultron (2015)</td>\n",
       "      <td>4.3</td>\n",
       "      <td>3.55</td>\n",
       "      <td>3.90</td>\n",
       "      <td>4.5</td>\n",
       "    </tr>\n",
       "    <tr>\n",
       "      <th>1</th>\n",
       "      <td>Cinderella (2015)</td>\n",
       "      <td>4.0</td>\n",
       "      <td>3.75</td>\n",
       "      <td>3.55</td>\n",
       "      <td>4.5</td>\n",
       "    </tr>\n",
       "    <tr>\n",
       "      <th>2</th>\n",
       "      <td>Ant-Man (2015)</td>\n",
       "      <td>4.5</td>\n",
       "      <td>4.05</td>\n",
       "      <td>3.90</td>\n",
       "      <td>4.5</td>\n",
       "    </tr>\n",
       "    <tr>\n",
       "      <th>3</th>\n",
       "      <td>Do You Believe? (2015)</td>\n",
       "      <td>4.2</td>\n",
       "      <td>2.35</td>\n",
       "      <td>2.70</td>\n",
       "      <td>4.5</td>\n",
       "    </tr>\n",
       "    <tr>\n",
       "      <th>4</th>\n",
       "      <td>Hot Tub Time Machine 2 (2015)</td>\n",
       "      <td>1.4</td>\n",
       "      <td>1.70</td>\n",
       "      <td>2.55</td>\n",
       "      <td>3.0</td>\n",
       "    </tr>\n",
       "  </tbody>\n",
       "</table>\n",
       "</div>"
      ],
      "text/plain": [
       "                             FILM  RT_user_norm  Metacritic_user_nom  \\\n",
       "0  Avengers: Age of Ultron (2015)           4.3                 3.55   \n",
       "1               Cinderella (2015)           4.0                 3.75   \n",
       "2                  Ant-Man (2015)           4.5                 4.05   \n",
       "3          Do You Believe? (2015)           4.2                 2.35   \n",
       "4   Hot Tub Time Machine 2 (2015)           1.4                 1.70   \n",
       "\n",
       "   IMDB_norm  Fandango_Ratingvalue  \n",
       "0       3.90                   4.5  \n",
       "1       3.55                   4.5  \n",
       "2       3.90                   4.5  \n",
       "3       2.70                   4.5  \n",
       "4       2.55                   3.0  "
      ]
     },
     "execution_count": 1,
     "metadata": {},
     "output_type": "execute_result"
    }
   ],
   "source": [
    "import pandas as pd\n",
    "reviews = pd.read_csv(\"fandango.csv\")\n",
    "cols = ['FILM', 'RT_user_norm', \"Metacritic_user_nom\", 'IMDB_norm', 'Fandango_Ratingvalue']\n",
    "\n",
    "norm_reviews = reviews[cols]\n",
    "norm_reviews[:5]"
   ]
  },
  {
   "cell_type": "markdown",
   "metadata": {},
   "source": [
    "## Distribution de fréquences"
   ]
  },
  {
   "cell_type": "markdown",
   "metadata": {},
   "source": [
    "* Utiliser la methode value_counts() pour retourner le décompte des fréquences de la colonne 'IMDB_norm'. Trier l'objet Séries résultant par son index et assigner le résultat à la variable imdb_distribution\n",
    "* Afficher le résultat"
   ]
  },
  {
   "cell_type": "code",
   "execution_count": 3,
   "metadata": {},
   "outputs": [
    {
     "data": {
      "text/plain": [
       "2.00     1\n",
       "2.10     1\n",
       "2.15     1\n",
       "2.20     1\n",
       "2.30     2\n",
       "2.45     2\n",
       "2.50     1\n",
       "2.55     1\n",
       "2.60     2\n",
       "2.70     4\n",
       "2.75     5\n",
       "2.80     2\n",
       "2.85     1\n",
       "2.90     1\n",
       "2.95     3\n",
       "3.00     2\n",
       "3.05     4\n",
       "3.10     1\n",
       "3.15     9\n",
       "3.20     6\n",
       "3.25     4\n",
       "3.30     9\n",
       "3.35     7\n",
       "3.40     1\n",
       "3.45     7\n",
       "3.50     4\n",
       "3.55     7\n",
       "3.60    10\n",
       "3.65     5\n",
       "3.70     8\n",
       "3.75     6\n",
       "3.80     3\n",
       "3.85     4\n",
       "3.90     9\n",
       "3.95     2\n",
       "4.00     1\n",
       "4.05     1\n",
       "4.10     4\n",
       "4.15     1\n",
       "4.20     2\n",
       "4.30     1\n",
       "Name: IMDB_norm, dtype: int64"
      ]
     },
     "execution_count": 3,
     "metadata": {},
     "output_type": "execute_result"
    }
   ],
   "source": [
    "imdb_distribution = norm_reviews[\"IMDB_norm\"].value_counts().sort_index()\n",
    "imdb_distribution\n"
   ]
  },
  {
   "cell_type": "markdown",
   "metadata": {},
   "source": [
    "## Histogram with Matplotlib"
   ]
  },
  {
   "cell_type": "markdown",
   "metadata": {},
   "source": [
    "* Créer un sous-graphique et assigner les objects Figure à la variable fig et Axes à la variable ax.\n",
    "* Générer un histogramme des valeurs de la colonne \"Fandango_Ratingvalue\" en utilisant un range de 0 à 5.\n",
    "* Utiliser plt.show() pour afficher le graphique."
   ]
  },
  {
   "cell_type": "code",
   "execution_count": 7,
   "metadata": {},
   "outputs": [],
   "source": [
    "%matplotlib inline\n",
    "import matplotlib.pyplot as plt\n",
    "from numpy import arange "
   ]
  },
  {
   "cell_type": "code",
   "execution_count": 9,
   "metadata": {},
   "outputs": [
    {
     "data": {
      "image/png": "[encoded data removed]",
      "text/plain": [
       "<Figure size 432x288 with 1 Axes>"
      ]
     },
     "metadata": {
      "needs_background": "light"
     },
     "output_type": "display_data"
    },
    {
     "data": {
      "text/plain": [
       "<Figure size 432x288 with 0 Axes>"
      ]
     },
     "metadata": {},
     "output_type": "display_data"
    }
   ],
   "source": [
    "fig, ax = plt.subplots()\n",
    "bar_positions = arange(5) + 1\n",
    "\n",
    "ax.hist(norm_reviews[\"Fandango_Ratingvalue\"], range=(0,5))\n",
    "plt.figure()\n",
    "plt.show()"
   ]
  },
  {
   "cell_type": "markdown",
   "metadata": {},
   "source": [
    "## Comparaison d'histogrammes"
   ]
  },
  {
   "cell_type": "markdown",
   "metadata": {},
   "source": [
    "Tracer un graphique avec 4 sous-graphiques:\n",
    "\n",
    "* Pour le sous-graphique associé à la variable ax1:\n",
    "\n",
    "    > * Générer un histogramme des valeurs de la colonne \"Fandango_Rattingvalue\" en utilisant 20 classes(bins) et un intervalle de 0 à 5\n",
    "\n",
    "* Pour le sous-graphique associé à la variable ax2:\n",
    "\n",
    "    > * Générer un histogramme des valeurs de la colonne \"RT_user_norm\" en utilisant 20 classes(bins) et un intervalle de 0 à 5\n",
    "\n",
    "* Pour le sous-graphique associé à la variable ax3:\n",
    "\n",
    "    > * Générer un histogramme des valeurs de la colonne \"Metacritic_user_nom\" en utilisant 20 classes(bins) et un intervalle de 0 à 5\n",
    "    \n",
    "* Pour le sous-graphique associé à la variable ax4:\n",
    "\n",
    "    > * Générer un histogramme des valeurs de la colonne \"IMDB_norm\" en utilisant 20 classes(bins) et un intervalle de 0 à 5\n",
    "    \n",
    "* Pour tous les graphiques définir l'intervalle sur l'axe y de 0 à 50 en utilisant Axes.set_ylim() et choisir un titre.\n",
    "* Afficher les histogrammes."
   ]
  },
  {
   "cell_type": "code",
   "execution_count": 16,
   "metadata": {},
   "outputs": [
    {
     "data": {
      "image/png": "[encoded data removed]",
      "text/plain": [
       "<Figure size 360x1440 with 4 Axes>"
      ]
     },
     "metadata": {
      "needs_background": "light"
     },
     "output_type": "display_data"
    },
    {
     "data": {
      "text/plain": [
       "<Figure size 432x288 with 0 Axes>"
      ]
     },
     "metadata": {},
     "output_type": "display_data"
    }
   ],
   "source": [
    "fig, ax = plt.subplots(4, 1, figsize = (5, 20))\n",
    "bar_positions = arange(5) + 1\n",
    "\n",
    "lis = ['Fandango_Ratingvalue', 'IMDB_norm', \"Metacritic_user_nom\", 'RT_user_norm']\n",
    "\n",
    "for i in range(4):\n",
    "    ax[i].hist(norm_reviews[lis[i]], 20, range=(0,5))\n",
    "    ax[i].set_ylim(0, 50)\n",
    "    ax[i].set_title(lis[i])\n",
    "plt.figure()\n",
    "plt.show()"
   ]
  },
  {
   "cell_type": "markdown",
   "metadata": {},
   "source": [
    "## Plusieur diagramme à boites"
   ]
  },
  {
   "cell_type": "markdown",
   "metadata": {},
   "source": [
    "* Créer un sous-graphiqu et assigner les objects Figure à la variable fig et Axes à la variable ax.\n",
    "* Générer un diagramme à boites pour chaque colonne de num_cols = ['RT_user_norm', \"Metacritic_user_nom\", 'IMDB_norm', 'Fandango_Ratingvalue'] .\n",
    "* Définir pour chaque diagramme un intitulé correspondant au nom de la colonne num_cols et faire une rotatio à 90 degrés de clet intitulé.\n",
    "* Définir l'intervalle de l'axe y de 0 à 5\n",
    "* Afficher le graphique"
   ]
  },
  {
   "cell_type": "code",
   "execution_count": 18,
   "metadata": {},
   "outputs": [
    {
     "data": {
      "image/png": "[encoded data removed]",
      "text/plain": [
       "<Figure size 432x288 with 1 Axes>"
      ]
     },
     "metadata": {
      "needs_background": "light"
     },
     "output_type": "display_data"
    }
   ],
   "source": [
    "fig, ax = plt.subplots()\n",
    "num_cols = ['RT_user_norm', \"Metacritic_user_nom\", 'IMDB_norm', 'Fandango_Ratingvalue'] \n",
    "ax.boxplot(norm_reviews[num_cols].values)\n",
    "ax.set_xticklabels(num_cols, rotation = 90)\n",
    "ax.set_ylim(0,5)\n",
    "plt.show()"
   ]
  },
  {
   "cell_type": "code",
   "execution_count": null,
   "metadata": {},
   "outputs": [],
   "source": []
  }
 ],
 "metadata": {
  "kernelspec": {
   "display_name": "Python 3",
   "language": "python",
   "name": "python3"
  },
  "language_info": {
   "codemirror_mode": {
    "name": "ipython",
    "version": 3
   },
   "file_extension": ".py",
   "mimetype": "text/x-python",
   "name": "python",
   "nbconvert_exporter": "python",
   "pygments_lexer": "ipython3",
   "version": "3.6.3"
  }
 },
 "nbformat": 4,
 "nbformat_minor": 2
}
