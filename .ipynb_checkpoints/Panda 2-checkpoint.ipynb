{
 "cells": [
  {
   "cell_type": "markdown",
   "metadata": {},
   "source": [
    "## All of Serie with Panda"
   ]
  },
  {
   "cell_type": "markdown",
   "metadata": {},
   "source": [
    "### Data Structures"
   ]
  },
  {
   "cell_type": "code",
   "execution_count": 1,
   "metadata": {},
   "outputs": [],
   "source": [
    "# Series\n",
    "#DataFrames\n",
    "#Panels"
   ]
  },
  {
   "cell_type": "markdown",
   "metadata": {},
   "source": [
    "#### Data type"
   ]
  },
  {
   "cell_type": "code",
   "execution_count": 1,
   "metadata": {},
   "outputs": [],
   "source": [
    "# float\n",
    "# int\n",
    "# bool\n",
    "# datetime64(ns) without time zone\n",
    "# datetime64(ns, tz) with time zone\n",
    "# timedelta(ns) minute and second...\n",
    "# category\n",
    "# object\n"
   ]
  },
  {
   "cell_type": "code",
   "execution_count": 2,
   "metadata": {},
   "outputs": [],
   "source": [
    "import pandas as pd\n",
    "fanango = pd.read_csv(\"fandango-score-comparison.csv\")"
   ]
  },
  {
   "cell_type": "code",
   "execution_count": 5,
   "metadata": {},
   "outputs": [],
   "source": [
    "series_film = fanango[\"FILM\"]\n",
    "series_rt = fanango[\"RottenTomatoes\"]"
   ]
  },
  {
   "cell_type": "markdown",
   "metadata": {},
   "source": [
    "## Personalize indexing"
   ]
  },
  {
   "cell_type": "code",
   "execution_count": 7,
   "metadata": {},
   "outputs": [],
   "source": [
    "# for indexing datas like Series[5:10] you want to know index of value that you want to treat\n",
    "# but if you don't want to know index, you can just use this method\n",
    "# allow you to select values(any value of column to that you specify) by value of one column\n",
    "from pandas import Series"
   ]
  },
  {
   "cell_type": "code",
   "execution_count": 8,
   "metadata": {},
   "outputs": [],
   "source": [
    "# Series(value= Series.value (1), index = Seriex.value (2)) \n",
    "# with index of (2), you can get any values that match(correspond) to that index from (1)\n",
    "\n",
    "film_names = series_film.values\n",
    "rt_scores = series_rt.values\n",
    "\n",
    "series_custom = Series(rt_scores, index=film_names)"
   ]
  },
  {
   "cell_type": "code",
   "execution_count": 9,
   "metadata": {
    "scrolled": false
   },
   "outputs": [
    {
     "data": {
      "text/plain": [
       "Run All Night (2015)    60\n",
       "Ted 2 (2015)            46\n",
       "dtype: int64"
      ]
     },
     "execution_count": 9,
     "metadata": {},
     "output_type": "execute_result"
    }
   ],
   "source": [
    "series_custom[['Run All Night (2015)', \"Ted 2 (2015)\"]]"
   ]
  },
  {
   "cell_type": "markdown",
   "metadata": {},
   "source": [
    "## Reindexing Series Object"
   ]
  },
  {
   "cell_type": "code",
   "execution_count": 10,
   "metadata": {},
   "outputs": [],
   "source": [
    "# Series.reindex() \n",
    "# change order of index in Series object"
   ]
  },
  {
   "cell_type": "code",
   "execution_count": 11,
   "metadata": {},
   "outputs": [],
   "source": [
    "# return a list of actualy index -- series_custom.index"
   ]
  },
  {
   "cell_type": "code",
   "execution_count": 12,
   "metadata": {},
   "outputs": [],
   "source": [
    "# sorted()"
   ]
  },
  {
   "cell_type": "markdown",
   "metadata": {},
   "source": [
    "## Sort Object Series"
   ]
  },
  {
   "cell_type": "code",
   "execution_count": 14,
   "metadata": {},
   "outputs": [],
   "source": [
    "# Series.sort_index() sort by index\n",
    "# Series.sort_values() sort by value"
   ]
  },
  {
   "cell_type": "markdown",
   "metadata": {},
   "source": [
    "## Transformation of column"
   ]
  },
  {
   "cell_type": "code",
   "execution_count": 16,
   "metadata": {},
   "outputs": [
    {
     "data": {
      "text/plain": [
       "Avengers: Age of Ultron (2015)                7.4\n",
       "Cinderella (2015)                             8.5\n",
       "Ant-Man (2015)                                8.0\n",
       "Do You Believe? (2015)                        1.8\n",
       "Hot Tub Time Machine 2 (2015)                 1.4\n",
       "                                             ... \n",
       "Mr. Holmes (2015)                             8.7\n",
       "'71 (2015)                                    9.7\n",
       "Two Days, One Night (2014)                    9.7\n",
       "Gett: The Trial of Viviane Amsalem (2015)    10.0\n",
       "Kumiko, The Treasure Hunter (2015)            8.7\n",
       "Length: 146, dtype: float64"
      ]
     },
     "execution_count": 16,
     "metadata": {},
     "output_type": "execute_result"
    }
   ],
   "source": [
    "series_custom/10 # we can use other methode from numpy like >>"
   ]
  },
  {
   "cell_type": "code",
   "execution_count": 17,
   "metadata": {},
   "outputs": [],
   "source": [
    "import numpy as np"
   ]
  },
  {
   "cell_type": "code",
   "execution_count": 19,
   "metadata": {},
   "outputs": [
    {
     "data": {
      "text/plain": [
       "Avengers: Age of Ultron (2015)               148\n",
       "Cinderella (2015)                            170\n",
       "Ant-Man (2015)                               160\n",
       "Do You Believe? (2015)                        36\n",
       "Hot Tub Time Machine 2 (2015)                 28\n",
       "                                            ... \n",
       "Mr. Holmes (2015)                            174\n",
       "'71 (2015)                                   194\n",
       "Two Days, One Night (2014)                   194\n",
       "Gett: The Trial of Viviane Amsalem (2015)    200\n",
       "Kumiko, The Treasure Hunter (2015)           174\n",
       "Length: 146, dtype: int64"
      ]
     },
     "execution_count": 19,
     "metadata": {},
     "output_type": "execute_result"
    }
   ],
   "source": [
    "# apply addition method\n",
    "# numpy.add(Serie_1, Series_2)\n",
    "np.add(series_custom, series_custom)"
   ]
  },
  {
   "cell_type": "code",
   "execution_count": 21,
   "metadata": {},
   "outputs": [
    {
     "data": {
      "text/plain": [
       "Avengers: Age of Ultron (2015)              -0.985146\n",
       "Cinderella (2015)                           -0.176076\n",
       "Ant-Man (2015)                              -0.993889\n",
       "Do You Believe? (2015)                      -0.750987\n",
       "Hot Tub Time Machine 2 (2015)                0.990607\n",
       "                                               ...   \n",
       "Mr. Holmes (2015)                           -0.821818\n",
       "'71 (2015)                                   0.379608\n",
       "Two Days, One Night (2014)                   0.379608\n",
       "Gett: The Trial of Viviane Amsalem (2015)   -0.506366\n",
       "Kumiko, The Treasure Hunter (2015)          -0.821818\n",
       "Length: 146, dtype: float64"
      ]
     },
     "execution_count": 21,
     "metadata": {},
     "output_type": "execute_result"
    }
   ],
   "source": [
    "# apply sinus function\n",
    "np.sin(series_custom)"
   ]
  },
  {
   "cell_type": "code",
   "execution_count": 22,
   "metadata": {},
   "outputs": [
    {
     "data": {
      "text/plain": [
       "100"
      ]
     },
     "execution_count": 22,
     "metadata": {},
     "output_type": "execute_result"
    }
   ],
   "source": [
    "# retrun maximal value of series\n",
    "np.max(series_custom)"
   ]
  },
  {
   "cell_type": "markdown",
   "metadata": {},
   "source": [
    "## Compare and Filter"
   ]
  },
  {
   "cell_type": "code",
   "execution_count": 25,
   "metadata": {},
   "outputs": [
    {
     "data": {
      "text/plain": [
       "Avengers: Age of Ultron (2015)                True\n",
       "Cinderella (2015)                             True\n",
       "Ant-Man (2015)                                True\n",
       "Do You Believe? (2015)                       False\n",
       "Hot Tub Time Machine 2 (2015)                False\n",
       "                                             ...  \n",
       "Mr. Holmes (2015)                             True\n",
       "'71 (2015)                                    True\n",
       "Two Days, One Night (2014)                    True\n",
       "Gett: The Trial of Viviane Amsalem (2015)     True\n",
       "Kumiko, The Treasure Hunter (2015)            True\n",
       "Length: 146, dtype: bool"
      ]
     },
     "execution_count": 25,
     "metadata": {},
     "output_type": "execute_result"
    }
   ],
   "source": [
    "# getting Serie that have some value like > 50 we can do\n",
    "series_greater_50 = series_custom > 50\n",
    "series_greater_50"
   ]
  },
  {
   "cell_type": "code",
   "execution_count": null,
   "metadata": {},
   "outputs": [],
   "source": []
  }
 ],
 "metadata": {
  "kernelspec": {
   "display_name": "Python 3",
   "language": "python",
   "name": "python3"
  },
  "language_info": {
   "codemirror_mode": {
    "name": "ipython",
    "version": 3
   },
   "file_extension": ".py",
   "mimetype": "text/x-python",
   "name": "python",
   "nbconvert_exporter": "python",
   "pygments_lexer": "ipython3",
   "version": "3.6.3"
  }
 },
 "nbformat": 4,
 "nbformat_minor": 2
}
