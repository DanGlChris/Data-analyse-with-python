{
 "cells": [
  {
   "cell_type": "markdown",
   "metadata": {},
   "source": [
    "# Histogrammes et boîtes à moustaches"
   ]
  },
  {
   "cell_type": "markdown",
   "metadata": {},
   "source": [
    "## Introduction"
   ]
  },
  {
   "cell_type": "code",
   "execution_count": 3,
   "metadata": {},
   "outputs": [
    {
     "data": {
      "text/html": [
       "<div>\n",
       "<style scoped>\n",
       "    .dataframe tbody tr th:only-of-type {\n",
       "        vertical-align: middle;\n",
       "    }\n",
       "\n",
       "    .dataframe tbody tr th {\n",
       "        vertical-align: top;\n",
       "    }\n",
       "\n",
       "    .dataframe thead th {\n",
       "        text-align: right;\n",
       "    }\n",
       "</style>\n",
       "<table border=\"1\" class=\"dataframe\">\n",
       "  <thead>\n",
       "    <tr style=\"text-align: right;\">\n",
       "      <th></th>\n",
       "      <th>FILM</th>\n",
       "      <th>RT_user_norm</th>\n",
       "      <th>Metacritic_user_nom</th>\n",
       "      <th>IMDB_norm</th>\n",
       "      <th>Fandango_Ratingvalue</th>\n",
       "    </tr>\n",
       "  </thead>\n",
       "  <tbody>\n",
       "    <tr>\n",
       "      <th>0</th>\n",
       "      <td>Avengers: Age of Ultron (2015)</td>\n",
       "      <td>4.3</td>\n",
       "      <td>3.55</td>\n",
       "      <td>3.90</td>\n",
       "      <td>4.5</td>\n",
       "    </tr>\n",
       "    <tr>\n",
       "      <th>1</th>\n",
       "      <td>Cinderella (2015)</td>\n",
       "      <td>4.0</td>\n",
       "      <td>3.75</td>\n",
       "      <td>3.55</td>\n",
       "      <td>4.5</td>\n",
       "    </tr>\n",
       "    <tr>\n",
       "      <th>2</th>\n",
       "      <td>Ant-Man (2015)</td>\n",
       "      <td>4.5</td>\n",
       "      <td>4.05</td>\n",
       "      <td>3.90</td>\n",
       "      <td>4.5</td>\n",
       "    </tr>\n",
       "    <tr>\n",
       "      <th>3</th>\n",
       "      <td>Do You Believe? (2015)</td>\n",
       "      <td>4.2</td>\n",
       "      <td>2.35</td>\n",
       "      <td>2.70</td>\n",
       "      <td>4.5</td>\n",
       "    </tr>\n",
       "    <tr>\n",
       "      <th>4</th>\n",
       "      <td>Hot Tub Time Machine 2 (2015)</td>\n",
       "      <td>1.4</td>\n",
       "      <td>1.70</td>\n",
       "      <td>2.55</td>\n",
       "      <td>3.0</td>\n",
       "    </tr>\n",
       "  </tbody>\n",
       "</table>\n",
       "</div>"
      ],
      "text/plain": [
       "                             FILM  RT_user_norm  Metacritic_user_nom  \\\n",
       "0  Avengers: Age of Ultron (2015)           4.3                 3.55   \n",
       "1               Cinderella (2015)           4.0                 3.75   \n",
       "2                  Ant-Man (2015)           4.5                 4.05   \n",
       "3          Do You Believe? (2015)           4.2                 2.35   \n",
       "4   Hot Tub Time Machine 2 (2015)           1.4                 1.70   \n",
       "\n",
       "   IMDB_norm  Fandango_Ratingvalue  \n",
       "0       3.90                   4.5  \n",
       "1       3.55                   4.5  \n",
       "2       3.90                   4.5  \n",
       "3       2.70                   4.5  \n",
       "4       2.55                   3.0  "
      ]
     },
     "execution_count": 3,
     "metadata": {},
     "output_type": "execute_result"
    }
   ],
   "source": [
    "import pandas as pd\n",
    "reviews = pd.read_csv(\"fandango.csv\")\n",
    "cols = ['FILM', 'RT_user_norm', \"Metacritic_user_nom\", 'IMDB_norm', 'Fandango_Ratingvalue']\n",
    "\n",
    "norm_reviews = reviews[cols]\n",
    "norm_reviews[:5]"
   ]
  },
  {
   "cell_type": "markdown",
   "metadata": {},
   "source": [
    "## Distribution de fréquences"
   ]
  },
  {
   "cell_type": "code",
   "execution_count": 4,
   "metadata": {},
   "outputs": [],
   "source": [
    "# Series.value_counts()"
   ]
  },
  {
   "cell_type": "code",
   "execution_count": 6,
   "metadata": {},
   "outputs": [
    {
     "data": {
      "text/plain": [
       "4.1    16\n",
       "4.2    12\n",
       "3.9    12\n",
       "4.3    11\n",
       "3.7     9\n",
       "3.5     9\n",
       "4.5     9\n",
       "3.4     9\n",
       "3.6     8\n",
       "4.4     7\n",
       "4.0     7\n",
       "3.2     5\n",
       "2.9     5\n",
       "3.8     5\n",
       "3.3     4\n",
       "4.6     4\n",
       "3.0     4\n",
       "4.8     3\n",
       "3.1     3\n",
       "2.8     2\n",
       "2.7     2\n",
       "Name: Fandango_Ratingvalue, dtype: int64"
      ]
     },
     "execution_count": 6,
     "metadata": {},
     "output_type": "execute_result"
    }
   ],
   "source": [
    "freq_count = norm_reviews[\"Fandango_Ratingvalue\"].value_counts()\n",
    "freq_count"
   ]
  },
  {
   "cell_type": "code",
   "execution_count": 7,
   "metadata": {},
   "outputs": [],
   "source": [
    "# Series.sort_index()"
   ]
  },
  {
   "cell_type": "code",
   "execution_count": 9,
   "metadata": {},
   "outputs": [
    {
     "data": {
      "text/plain": [
       "2.7     2\n",
       "2.8     2\n",
       "2.9     5\n",
       "3.0     4\n",
       "3.1     3\n",
       "3.2     5\n",
       "3.3     4\n",
       "3.4     9\n",
       "3.5     9\n",
       "3.6     8\n",
       "3.7     9\n",
       "3.8     5\n",
       "3.9    12\n",
       "4.0     7\n",
       "4.1    16\n",
       "4.2    12\n",
       "4.3    11\n",
       "4.4     7\n",
       "4.5     9\n",
       "4.6     4\n",
       "4.8     3\n",
       "Name: Fandango_Ratingvalue, dtype: int64"
      ]
     },
     "execution_count": 9,
     "metadata": {},
     "output_type": "execute_result"
    }
   ],
   "source": [
    "sorted_freq_counts = freq_count.sort_index()\n",
    "sorted_freq_counts"
   ]
  },
  {
   "cell_type": "markdown",
   "metadata": {},
   "source": [
    "## Histogram with Matplotlib"
   ]
  },
  {
   "cell_type": "code",
   "execution_count": 11,
   "metadata": {},
   "outputs": [],
   "source": [
    "# Axes.hist(values, range=(a,b))"
   ]
  },
  {
   "cell_type": "code",
   "execution_count": 12,
   "metadata": {},
   "outputs": [
    {
     "ename": "NameError",
     "evalue": "name 'ax' is not defined",
     "output_type": "error",
     "traceback": [
      "\u001b[1;31m---------------------------------------------------------------------------\u001b[0m",
      "\u001b[1;31mNameError\u001b[0m                                 Traceback (most recent call last)",
      "\u001b[1;32m<ipython-input-12-e4c6576dafc7>\u001b[0m in \u001b[0;36m<module>\u001b[1;34m\u001b[0m\n\u001b[1;32m----> 1\u001b[1;33m \u001b[0max\u001b[0m\u001b[1;33m.\u001b[0m\u001b[0mhist\u001b[0m\u001b[1;33m(\u001b[0m\u001b[0mdf\u001b[0m\u001b[1;33m[\u001b[0m\u001b[0mcol\u001b[0m\u001b[1;33m]\u001b[0m\u001b[1;33m,\u001b[0m \u001b[0mrange\u001b[0m\u001b[1;33m=\u001b[0m\u001b[1;33m(\u001b[0m\u001b[1;36m0\u001b[0m\u001b[1;33m,\u001b[0m\u001b[1;36m5\u001b[0m\u001b[1;33m)\u001b[0m\u001b[1;33m)\u001b[0m\u001b[1;33m\u001b[0m\u001b[0m\n\u001b[0m",
      "\u001b[1;31mNameError\u001b[0m: name 'ax' is not defined"
     ]
    }
   ],
   "source": [
    "# ax.hist(df[col], range=(0,5))"
   ]
  },
  {
   "cell_type": "code",
   "execution_count": null,
   "metadata": {},
   "outputs": [],
   "source": []
  }
 ],
 "metadata": {
  "kernelspec": {
   "display_name": "Python 3",
   "language": "python",
   "name": "python3"
  },
  "language_info": {
   "codemirror_mode": {
    "name": "ipython",
    "version": 3
   },
   "file_extension": ".py",
   "mimetype": "text/x-python",
   "name": "python",
   "nbconvert_exporter": "python",
   "pygments_lexer": "ipython3",
   "version": "3.6.3"
  }
 },
 "nbformat": 4,
 "nbformat_minor": 2
}
