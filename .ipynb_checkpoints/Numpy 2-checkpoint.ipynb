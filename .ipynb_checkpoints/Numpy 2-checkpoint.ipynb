{
 "cells": [
  {
   "cell_type": "markdown",
   "metadata": {},
   "source": [
    "# Data Analyse with Numpy\n",
    "\n",
    "## Objectif"
   ]
  },
  {
   "cell_type": "code",
   "execution_count": 58,
   "metadata": {},
   "outputs": [],
   "source": [
    "import numpy as np\n",
    "world_alcohol = np.genfromtxt(\"world-alcohol.csv\", delimiter = \",\", dtype = \"U75\", skip_header = 1)"
   ]
  },
  {
   "cell_type": "markdown",
   "metadata": {},
   "source": [
    "## Make comparisons"
   ]
  },
  {
   "cell_type": "code",
   "execution_count": 59,
   "metadata": {},
   "outputs": [
    {
     "name": "stdout",
     "output_type": "stream",
     "text": [
      "['1986' '1986' '1985' ... '1986' '1987' '1986'] \n",
      " [False False False ... False False False]\n"
     ]
    }
   ],
   "source": [
    "third_colomn = world_alcohol[:, 2]\n",
    "countrie_canada = third_colomn==\"Canada\"\n",
    "\n",
    "first_colomn = world_alcohol[:, 0]\n",
    "years_1984 = first_colomn==\"1984\"\n",
    "\n",
    "print(first_colomn, \"\\n\", years_1984)"
   ]
  },
  {
   "cell_type": "markdown",
   "metadata": {},
   "source": [
    "## Select Data"
   ]
  },
  {
   "cell_type": "code",
   "execution_count": 60,
   "metadata": {},
   "outputs": [
    {
     "name": "stdout",
     "output_type": "stream",
     "text": [
      "[['1984' 'Africa' 'Algeria' 'Spirits' '0.01']\n",
      " ['1987' 'Africa' 'Algeria' 'Beer' '0.17']\n",
      " ['1987' 'Africa' 'Algeria' 'Spirits' '0.01']\n",
      " ['1986' 'Africa' 'Algeria' 'Wine' '0.1']\n",
      " ['1984' 'Africa' 'Algeria' 'Other' '0']\n",
      " ['1989' 'Africa' 'Algeria' 'Beer' '0.16']\n",
      " ['1989' 'Africa' 'Algeria' 'Spirits' '0.01']\n",
      " ['1989' 'Africa' 'Algeria' 'Wine' '0.23']\n",
      " ['1986' 'Africa' 'Algeria' 'Spirits' '0.01']\n",
      " ['1984' 'Africa' 'Algeria' 'Wine' '0.12']\n",
      " ['1985' 'Africa' 'Algeria' 'Beer' '0.19']\n",
      " ['1985' 'Africa' 'Algeria' 'Other' '0']\n",
      " ['1986' 'Africa' 'Algeria' 'Beer' '0.18']\n",
      " ['1985' 'Africa' 'Algeria' 'Wine' '0.11']\n",
      " ['1986' 'Africa' 'Algeria' 'Other' '0']\n",
      " ['1989' 'Africa' 'Algeria' 'Other' '0']\n",
      " ['1987' 'Africa' 'Algeria' 'Other' '0']\n",
      " ['1984' 'Africa' 'Algeria' 'Beer' '0.2']\n",
      " ['1985' 'Africa' 'Algeria' 'Spirits' '0.01']\n",
      " ['1987' 'Africa' 'Algeria' 'Wine' '0.1']]\n"
     ]
    }
   ],
   "source": [
    "third_colomn = world_alcohol[:, 2]\n",
    "country_is_algeria = third_colomn==\"Algeria\"\n",
    "countrie_algeria = world_alcohol[country_is_algeria, :]\n",
    "print(countrie_algeria)"
   ]
  },
  {
   "cell_type": "code",
   "execution_count": 61,
   "metadata": {},
   "outputs": [
    {
     "name": "stdout",
     "output_type": "stream",
     "text": [
      "[['1984' 'Africa' 'Nigeria' 'Other' '6.1']\n",
      " ['1984' 'Eastern Mediterranean' 'Afghanistan' 'Other' '0']\n",
      " ['1984' 'Americas' 'Costa Rica' 'Wine' '0.06']\n",
      " ...\n",
      " ['1984' 'Europe' 'Latvia' 'Spirits' '7.5']\n",
      " ['1984' 'Africa' 'Angola' 'Wine' '0.57']\n",
      " ['1984' 'Africa' 'Central African Republic' 'Wine' '0.46']]\n"
     ]
    }
   ],
   "source": [
    "first_colomn = world_alcohol[:, 0]\n",
    "year_is_1984 = first_colomn==\"1984\"\n",
    "year_1984 = world_alcohol[year_is_1984, :]\n",
    "print(year_1984)"
   ]
  },
  {
   "cell_type": "markdown",
   "metadata": {},
   "source": [
    "## Make comparison with 2 or more conditions"
   ]
  },
  {
   "cell_type": "code",
   "execution_count": 62,
   "metadata": {},
   "outputs": [
    {
     "name": "stdout",
     "output_type": "stream",
     "text": [
      "[['1986' 'Africa' 'Algeria' 'Wine' '0.1']\n",
      " ['1986' 'Africa' 'Algeria' 'Spirits' '0.01']\n",
      " ['1986' 'Africa' 'Algeria' 'Beer' '0.18']\n",
      " ['1986' 'Africa' 'Algeria' 'Other' '0']]\n"
     ]
    }
   ],
   "source": [
    "third_column_Algeria = world_alcohol[:, 2]==\"Algeria\"\n",
    "first_column_1986 = world_alcohol[:, 0] ==\"1986\"\n",
    "is_algeria_and_1986 = third_column_Algeria & first_column_1986\n",
    "rows_with_algeria_and_1986 = world_alcohol[is_algeria_and_1986, :]\n",
    "print(rows_with_algeria_and_1986)"
   ]
  },
  {
   "cell_type": "markdown",
   "metadata": {},
   "source": [
    "## Remplace Value in Nampy list"
   ]
  },
  {
   "cell_type": "code",
   "execution_count": 79,
   "metadata": {},
   "outputs": [
    {
     "name": "stdout",
     "output_type": "stream",
     "text": [
      "[['2018' 'Western Pacific' 'Viet Nam' 'Beer' '0']\n",
      " ['2018' 'Americas' 'Uruguay' 'Other' '0.5']\n",
      " ['1985' 'Africa' \"Cte d'Ivoire\" 'Beer' '1.62']\n",
      " ...\n",
      " ['2018' 'Europe' 'Switzerland' 'Spirits' '2.54']\n",
      " ['1987' 'Western Pacific' 'Papua New Guinea' 'Other' '0']\n",
      " ['2018' 'Africa' 'Swaziland' 'Other' '5.15']]\n"
     ]
    }
   ],
   "source": [
    "world_alcohol_2 = world_alcohol.copy()\n",
    "world_alcohol_2[world_alcohol_2[:, 0] == '1986', 0] = '2018'\n",
    "world_alcohol_2[world_alcohol_2[:, 3] == 'Wine', 3] = 'Beer'\n",
    "print(world_alcohol_2)"
   ]
  },
  {
   "cell_type": "markdown",
   "metadata": {},
   "source": [
    "## Remplace Empty Field"
   ]
  },
  {
   "cell_type": "code",
   "execution_count": 64,
   "metadata": {},
   "outputs": [
    {
     "name": "stdout",
     "output_type": "stream",
     "text": [
      "[['1986' 'Western Pacific' 'Viet Nam' 'Wine' '0']\n",
      " ['1986' 'Americas' 'Uruguay' 'Other' '0.5']\n",
      " ['1985' 'Africa' \"Cte d'Ivoire\" 'Wine' '1.62']\n",
      " ...\n",
      " ['1986' 'Europe' 'Switzerland' 'Spirits' '2.54']\n",
      " ['1987' 'Western Pacific' 'Papua New Guinea' 'Other' '0']\n",
      " ['1986' 'Africa' 'Swaziland' 'Other' '5.15']]\n"
     ]
    }
   ],
   "source": [
    "world_alcohol[world_alcohol[:, 4] == '', 4] = '0'\n",
    "print(world_alcohol)"
   ]
  },
  {
   "cell_type": "markdown",
   "metadata": {},
   "source": [
    "## Convert Data Type"
   ]
  },
  {
   "cell_type": "code",
   "execution_count": 75,
   "metadata": {},
   "outputs": [],
   "source": [
    "alcohol_consumption = world_alcohol[:, 4]\n",
    "alcohol_consumption = alcohol_consumption.astype(float)"
   ]
  },
  {
   "cell_type": "markdown",
   "metadata": {},
   "source": [
    "## Realize Mathematics Calculs with Numpy"
   ]
  },
  {
   "cell_type": "code",
   "execution_count": 78,
   "metadata": {},
   "outputs": [
    {
     "name": "stdout",
     "output_type": "stream",
     "text": [
      "3908.96\n",
      "1.2001719373656738\n"
     ]
    }
   ],
   "source": [
    "total_alcohol = alcohol_consumption.sum()\n",
    "print(total_alcohol)\n",
    "\n",
    "average_alcohol = alcohol_consumption.mean()\n",
    "print(average_alcohol)"
   ]
  },
  {
   "cell_type": "markdown",
   "metadata": {},
   "source": [
    "## Calculation of Annual comsumption per habitat for a given country"
   ]
  },
  {
   "cell_type": "code",
   "execution_count": 87,
   "metadata": {},
   "outputs": [
    {
     "name": "stdout",
     "output_type": "stream",
     "text": [
      "[['1986' 'Americas' 'Canada' 'Other' '0']\n",
      " ['1986' 'Americas' 'Canada' 'Spirits' '3.11']\n",
      " ['1986' 'Americas' 'Canada' 'Beer' '4.87']\n",
      " ['1986' 'Americas' 'Canada' 'Wine' '1.33']]\n",
      "9.31\n"
     ]
    }
   ],
   "source": [
    "condition = (world_alcohol[:, 2] == 'Canada') & (world_alcohol[:, 0] == '1986')\n",
    "canada_1986 = world_alcohol[condition, :]\n",
    "print(canada_1986)\n",
    "canada_alcohol = canada_1986[:, 4].astype(float)\n",
    "total_canadian_drinking = canada_alcohol.sum()\n",
    "print(total_canadian_drinking)"
   ]
  },
  {
   "cell_type": "markdown",
   "metadata": {},
   "source": [
    "## Consumption for each country"
   ]
  },
  {
   "cell_type": "code",
   "execution_count": 98,
   "metadata": {},
   "outputs": [
    {
     "name": "stdout",
     "output_type": "stream",
     "text": [
      "Viet Nam :  0.16\n",
      "Uruguay :  7.4399999999999995\n",
      "Cte d'Ivoire :  2.2\n",
      "Colombia :  6.960000000000001\n",
      "Saint Kitts and Nevis :  4.65\n",
      "Guatemala :  2.47\n",
      "Mauritius :  3.54\n",
      "Angola :  2.28\n",
      "Antigua and Barbuda :  4.69\n",
      "Nigeria :  6.74\n",
      "Botswana :  4.63\n",
      "Lao People's Democratic Republic :  5.95\n",
      "Afghanistan :  0.0\n",
      "Guinea-Bissau :  2.67\n",
      "Costa Rica :  5.3999999999999995\n",
      "Seychelles :  3.3000000000000003\n",
      "Norway :  5.08\n",
      "Kenya :  2.82\n",
      "Myanmar :  0.16\n",
      "Romania :  8.41\n",
      "Turkey :  0.72\n",
      "Comoros :  0.10999999999999999\n",
      "Tunisia :  0.95\n",
      "United Kingdom of Great Britain and Northern Ireland :  9.99\n",
      "Bahrain :  4.89\n",
      "Italy :  10.899999999999999\n",
      "Sierra Leone :  4.380000000000001\n",
      "Micronesia (Federated States of) :  0.0\n",
      "Mauritania :  0.02\n",
      "Russian Federation :  5.35\n",
      "Egypt :  0.42000000000000004\n",
      "Sweden :  7.47\n",
      "Qatar :  1.4500000000000002\n",
      "Burkina Faso :  3.99\n",
      "Austria :  13.9\n",
      "Czech Republic :  13.009999999999998\n",
      "Ukraine :  5.32\n",
      "China :  3.33\n",
      "Lithuania :  0.0\n",
      "Zimbabwe :  4.92\n",
      "Trinidad and Tobago :  4.68\n",
      "Mexico :  5.1\n",
      "Nicaragua :  2.5\n",
      "Malta :  7.13\n",
      "Switzerland :  13.849999999999998\n",
      "Finland :  9.419999999999998\n",
      "Saudi Arabia :  0.15\n",
      "Kuwait :  0.0\n",
      "El Salvador :  1.77\n",
      "Suriname :  3.67\n",
      "Croatia :  10.92\n",
      "Somalia :  0.0\n",
      "Syrian Arab Republic :  0.54\n",
      "Iran (Islamic Republic of) :  0.0\n",
      "Papua New Guinea :  1.1099999999999999\n",
      "Libya :  0.0\n",
      "Bolivia (Plurinational State of) :  3.05\n",
      "Iraq :  0.75\n",
      "Namibia :  0.24\n",
      "Uganda :  7.8\n",
      "Togo :  2.2199999999999998\n",
      "Madagascar :  1.38\n",
      "Mali :  0.6699999999999999\n",
      "Pakistan :  0.02\n",
      "Cameroon :  6.359999999999999\n",
      "Jamaica :  3.03\n",
      "Malawi :  1.02\n",
      "Netherlands :  10.030000000000001\n",
      "Ireland :  11.79\n",
      "Sri Lanka :  0.14\n",
      "Democratic Republic of the Congo :  1.92\n",
      "Bahamas :  12.290000000000001\n",
      "Lebanon :  3.94\n",
      "Bulgaria :  11.43\n",
      "Eritrea :  0.29\n",
      "Niger :  0.11\n",
      "Luxembourg :  15.21\n",
      "Indonesia :  0.07\n",
      "Equatorial Guinea :  6.49\n",
      "Democratic People's Republic of Korea :  3.6799999999999997\n",
      "Chile :  8.649999999999999\n",
      "Central African Republic :  2.5199999999999996\n",
      "Spain :  13.280000000000001\n",
      "Gambia :  1.6300000000000001\n",
      "Ghana :  1.8599999999999999\n",
      "Brazil :  5.52\n",
      "Portugal :  15.350000000000001\n",
      "Burundi :  8.159999999999998\n",
      "Belgium :  11.61\n",
      "Paraguay :  6.51\n",
      "Hungary :  16.29\n",
      "Greece :  10.15\n",
      "India :  1.66\n",
      "Kyrgyzstan :  4.279999999999999\n",
      "France :  16.05\n",
      "Zambia :  3.37\n",
      "Israel :  2.0300000000000002\n",
      "Swaziland :  6.68\n",
      "Canada :  9.0\n",
      "Cambodia :  0.33\n",
      "Cabo Verde :  2.79\n",
      "United Arab Emirates :  4.43\n",
      "Peru :  4.99\n",
      "Solomon Islands :  0.5800000000000001\n",
      "United Republic of Tanzania :  5.9\n",
      "Chad :  0.30000000000000004\n",
      "Cuba :  4.37\n",
      "Guyana :  9.940000000000001\n",
      "Mongolia :  2.59\n",
      "Australia :  12.09\n",
      "Sao Tome and Principe :  2.57\n",
      "Slovenia :  12.969999999999999\n",
      "Benin :  1.3800000000000001\n",
      "Algeria :  0.4\n",
      "Venezuela (Bolivarian Republic of) :  7.87\n",
      "Ecuador :  2.54\n",
      "Iceland :  5.359999999999999\n",
      "Liberia :  5.61\n",
      "Yemen :  0.2\n",
      "Sudan :  0.15\n",
      "Belarus :  7.9799999999999995\n",
      "Cyprus :  9.29\n",
      "United States of America :  9.16\n",
      "Vanuatu :  1.74\n",
      "Bangladesh :  0.0\n",
      "Philippines :  3.78\n",
      "Slovakia :  12.700000000000001\n",
      "Poland :  9.33\n",
      "Senegal :  0.6100000000000001\n",
      "Honduras :  2.15\n",
      "Bhutan :  0.31\n",
      "Fiji :  1.9600000000000002\n",
      "Belize :  0.0\n",
      "Lesotho :  2.02\n",
      "Singapore :  1.61\n",
      "Guinea :  0.21\n",
      "Brunei Darussalam :  2.7800000000000002\n",
      "Congo :  3.1500000000000004\n",
      "Thailand :  3.92\n",
      "Djibouti :  0.87\n",
      "Gabon :  9.34\n",
      "Dominican Republic :  4.53\n",
      "Morocco :  0.7\n",
      "New Zealand :  11.52\n",
      "Denmark :  11.649999999999999\n",
      "Samoa :  2.63\n",
      "Argentina :  10.82\n",
      "Oman :  1.03\n",
      "Kiribati :  0.48\n",
      "Albania :  1.73\n",
      "Nepal :  0.03\n",
      "Malaysia :  0.68\n",
      "Latvia :  7.039999999999999\n",
      "Haiti :  5.81\n",
      "South Africa :  9.21\n",
      "Republic of Korea :  9.620000000000001\n",
      "Japan :  7.74\n",
      "Mozambique :  0.39\n",
      "Ethiopia :  0.8600000000000001\n",
      "Panama :  4.6000000000000005\n",
      "Germany :  14.64\n",
      "Saint Lucia :  11.62\n",
      "Rwanda :  7.549999999999999\n",
      "Jordan :  0.19\n"
     ]
    }
   ],
   "source": [
    "totals = {}\n",
    "year = world_alcohol[world_alcohol[:, 0] == '1989', :]\n",
    "countrie = world_alcohol[:, 2]\n",
    "for c in countrie:\n",
    "    country_consumption = year[year[:, 2] == c, 4]\n",
    "    country_consumption = country_consumption.astype(float)\n",
    "    somme = country_consumption.sum()\n",
    "    totals[c] = somme\n",
    "for c in totals:\n",
    "    print(c,': ', totals[c])\n"
   ]
  },
  {
   "cell_type": "markdown",
   "metadata": {},
   "source": [
    "## Find Country who consume most alcohol"
   ]
  },
  {
   "cell_type": "code",
   "execution_count": 99,
   "metadata": {},
   "outputs": [
    {
     "name": "stdout",
     "output_type": "stream",
     "text": [
      "Hungary :  16.29\n"
     ]
    }
   ],
   "source": [
    "highest_value = 0\n",
    "highest_key = 'none'\n",
    "for c in totals:\n",
    "    if totals[c]> highest_value:\n",
    "        highest_value = totals[c]\n",
    "        highest_key = c\n",
    "print(highest_key,': ', highest_value)"
   ]
  },
  {
   "cell_type": "code",
   "execution_count": null,
   "metadata": {},
   "outputs": [],
   "source": []
  }
 ],
 "metadata": {
  "kernelspec": {
   "display_name": "Python 3",
   "language": "python",
   "name": "python3"
  },
  "language_info": {
   "codemirror_mode": {
    "name": "ipython",
    "version": 3
   },
   "file_extension": ".py",
   "mimetype": "text/x-python",
   "name": "python",
   "nbconvert_exporter": "python",
   "pygments_lexer": "ipython3",
   "version": "3.6.3"
  }
 },
 "nbformat": 4,
 "nbformat_minor": 2
}
